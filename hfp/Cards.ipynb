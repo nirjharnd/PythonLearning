{
 "cells": [
  {
   "cell_type": "code",
   "id": "initial_id",
   "metadata": {
    "collapsed": true,
    "ExecuteTime": {
     "end_time": "2024-10-15T18:51:27.324461Z",
     "start_time": "2024-10-15T18:51:27.309542Z"
    }
   },
   "source": [
    "import random\n",
    "\n",
    "suits = [\"Clubs\", \"Spades\", \"Hearts\", \"Diamonds\"]\n",
    "faces = [\"Jack\", \"Queen\", \"King\", \"Ace\"]\n",
    "numbered = [\"1\", \"2\", \"3\", \"4\", \"5\", \"6\", \"7\", \"8\", \"9\", \"10\"]"
   ],
   "outputs": [],
   "execution_count": 41
  },
  {
   "metadata": {
    "ExecuteTime": {
     "end_time": "2024-10-15T18:51:27.373016Z",
     "start_time": "2024-10-15T18:51:27.362069Z"
    }
   },
   "cell_type": "code",
   "source": "suits",
   "id": "fb659ee083cc3b7f",
   "outputs": [
    {
     "data": {
      "text/plain": [
       "['Clubs', 'Spades', 'Hearts', 'Diamonds']"
      ]
     },
     "execution_count": 42,
     "metadata": {},
     "output_type": "execute_result"
    }
   ],
   "execution_count": 42
  },
  {
   "metadata": {
    "ExecuteTime": {
     "end_time": "2024-10-15T18:51:27.439739Z",
     "start_time": "2024-10-15T18:51:27.431698Z"
    }
   },
   "cell_type": "code",
   "source": [
    "def draw():\n",
    "    the_suit = random.choice(suits)\n",
    "    the_card = random.choice(faces + numbered)\n",
    "    return the_card, \"of\", the_suit"
   ],
   "id": "4775a8e3f31d966f",
   "outputs": [],
   "execution_count": 43
  },
  {
   "metadata": {
    "ExecuteTime": {
     "end_time": "2024-10-15T18:51:27.520388Z",
     "start_time": "2024-10-15T18:51:27.512714Z"
    }
   },
   "cell_type": "code",
   "source": "print(draw())",
   "id": "e78c463c66df6a25",
   "outputs": [
    {
     "name": "stdout",
     "output_type": "stream",
     "text": [
      "('Jack', 'of', 'Spades')\n"
     ]
    }
   ],
   "execution_count": 44
  },
  {
   "metadata": {
    "ExecuteTime": {
     "end_time": "2024-10-15T18:51:27.586318Z",
     "start_time": "2024-10-15T18:51:27.574849Z"
    }
   },
   "cell_type": "code",
   "source": "print(draw())",
   "id": "852b555890ff1b85",
   "outputs": [
    {
     "name": "stdout",
     "output_type": "stream",
     "text": [
      "('1', 'of', 'Hearts')\n"
     ]
    }
   ],
   "execution_count": 45
  },
  {
   "metadata": {
    "ExecuteTime": {
     "end_time": "2024-10-15T18:51:27.666517Z",
     "start_time": "2024-10-15T18:51:27.657608Z"
    }
   },
   "cell_type": "code",
   "source": "print(draw())",
   "id": "1fcc1fc1a60fd771",
   "outputs": [
    {
     "name": "stdout",
     "output_type": "stream",
     "text": [
      "('8', 'of', 'Clubs')\n"
     ]
    }
   ],
   "execution_count": 46
  },
  {
   "metadata": {
    "ExecuteTime": {
     "end_time": "2024-10-15T18:51:27.757440Z",
     "start_time": "2024-10-15T18:51:27.745522Z"
    }
   },
   "cell_type": "code",
   "source": [
    "for _ in range(5):\n",
    "    print(draw())"
   ],
   "id": "50747e68c9f635e0",
   "outputs": [
    {
     "name": "stdout",
     "output_type": "stream",
     "text": [
      "('King', 'of', 'Spades')\n",
      "('8', 'of', 'Diamonds')\n",
      "('1', 'of', 'Hearts')\n",
      "('2', 'of', 'Diamonds')\n",
      "('Ace', 'of', 'Hearts')\n"
     ]
    }
   ],
   "execution_count": 47
  },
  {
   "metadata": {
    "ExecuteTime": {
     "end_time": "2024-10-15T18:51:27.921912Z",
     "start_time": "2024-10-15T18:51:27.910763Z"
    }
   },
   "cell_type": "code",
   "source": "deck = set()",
   "id": "52e65a2917232d81",
   "outputs": [],
   "execution_count": 48
  },
  {
   "metadata": {
    "ExecuteTime": {
     "end_time": "2024-10-15T18:51:28.005896Z",
     "start_time": "2024-10-15T18:51:27.997146Z"
    }
   },
   "cell_type": "code",
   "source": "type(deck)",
   "id": "b0968d8a3805fa47",
   "outputs": [
    {
     "data": {
      "text/plain": [
       "set"
      ]
     },
     "execution_count": 49,
     "metadata": {},
     "output_type": "execute_result"
    }
   ],
   "execution_count": 49
  },
  {
   "metadata": {
    "ExecuteTime": {
     "end_time": "2024-10-15T18:51:28.079525Z",
     "start_time": "2024-10-15T18:51:28.068072Z"
    }
   },
   "cell_type": "code",
   "source": "len(deck)",
   "id": "7383a01f8a18bd95",
   "outputs": [
    {
     "data": {
      "text/plain": [
       "0"
      ]
     },
     "execution_count": 50,
     "metadata": {},
     "output_type": "execute_result"
    }
   ],
   "execution_count": 50
  },
  {
   "metadata": {
    "ExecuteTime": {
     "end_time": "2024-10-15T18:51:28.177560Z",
     "start_time": "2024-10-15T18:51:28.168382Z"
    }
   },
   "cell_type": "code",
   "source": "print(dir(deck))",
   "id": "4d1cd30c86d58716",
   "outputs": [
    {
     "name": "stdout",
     "output_type": "stream",
     "text": [
      "['__and__', '__class__', '__class_getitem__', '__contains__', '__delattr__', '__dir__', '__doc__', '__eq__', '__format__', '__ge__', '__getattribute__', '__gt__', '__hash__', '__iand__', '__init__', '__init_subclass__', '__ior__', '__isub__', '__iter__', '__ixor__', '__le__', '__len__', '__lt__', '__ne__', '__new__', '__or__', '__rand__', '__reduce__', '__reduce_ex__', '__repr__', '__ror__', '__rsub__', '__rxor__', '__setattr__', '__sizeof__', '__str__', '__sub__', '__subclasshook__', '__xor__', 'add', 'clear', 'copy', 'difference', 'difference_update', 'discard', 'intersection', 'intersection_update', 'isdisjoint', 'issubset', 'issuperset', 'pop', 'remove', 'symmetric_difference', 'symmetric_difference_update', 'union', 'update']\n"
     ]
    }
   ],
   "execution_count": 51
  },
  {
   "metadata": {
    "ExecuteTime": {
     "end_time": "2024-10-15T18:51:28.247696Z",
     "start_time": "2024-10-15T18:51:28.238808Z"
    }
   },
   "cell_type": "code",
   "source": "help(deck.add)",
   "id": "469430b88e205eb7",
   "outputs": [
    {
     "name": "stdout",
     "output_type": "stream",
     "text": [
      "Help on built-in function add:\n",
      "\n",
      "add(...) method of builtins.set instance\n",
      "    Add an element to a set.\n",
      "    \n",
      "    This has no effect if the element is already present.\n",
      "\n"
     ]
    }
   ],
   "execution_count": 52
  },
  {
   "metadata": {
    "ExecuteTime": {
     "end_time": "2024-10-15T18:51:28.392647Z",
     "start_time": "2024-10-15T18:51:28.384341Z"
    }
   },
   "cell_type": "code",
   "source": "print(suits)",
   "id": "c7c5ae8471bfe86d",
   "outputs": [
    {
     "name": "stdout",
     "output_type": "stream",
     "text": [
      "['Clubs', 'Spades', 'Hearts', 'Diamonds']\n"
     ]
    }
   ],
   "execution_count": 53
  },
  {
   "metadata": {
    "ExecuteTime": {
     "end_time": "2024-10-15T18:51:28.487897Z",
     "start_time": "2024-10-15T18:51:28.480340Z"
    }
   },
   "cell_type": "code",
   "source": [
    "suits = [\"Clubs\", \"Spades\", \"Hearts\", \"Diamonds\"]\n",
    "faces = [\"Jack\", \"Queen\", \"King\", \"Ace\"]\n",
    "numbered = [2,3,4,5,6,7,8,9,10]"
   ],
   "id": "5c4abaf38e275d44",
   "outputs": [],
   "execution_count": 54
  },
  {
   "metadata": {
    "ExecuteTime": {
     "end_time": "2024-10-15T18:51:28.544913Z",
     "start_time": "2024-10-15T18:51:28.536996Z"
    }
   },
   "cell_type": "code",
   "source": [
    "for suit in suits:\n",
    "    for card in faces + numbered:\n",
    "        deck.add((card, \"of\", suit))"
   ],
   "id": "d91403b43daf7521",
   "outputs": [],
   "execution_count": 55
  },
  {
   "metadata": {
    "ExecuteTime": {
     "end_time": "2024-10-15T18:51:28.608554Z",
     "start_time": "2024-10-15T18:51:28.598752Z"
    }
   },
   "cell_type": "code",
   "source": "len(deck)",
   "id": "46b97141fb1d3a98",
   "outputs": [
    {
     "data": {
      "text/plain": [
       "52"
      ]
     },
     "execution_count": 56,
     "metadata": {},
     "output_type": "execute_result"
    }
   ],
   "execution_count": 56
  },
  {
   "metadata": {
    "ExecuteTime": {
     "end_time": "2024-10-15T18:51:28.735392Z",
     "start_time": "2024-10-15T18:51:28.726727Z"
    }
   },
   "cell_type": "code",
   "source": [
    "card = random.choice(list(deck))\n",
    "print(card)"
   ],
   "id": "67845218ea9de2b3",
   "outputs": [
    {
     "name": "stdout",
     "output_type": "stream",
     "text": [
      "(7, 'of', 'Hearts')\n"
     ]
    }
   ],
   "execution_count": 57
  },
  {
   "metadata": {
    "ExecuteTime": {
     "end_time": "2024-10-15T18:52:30.114916Z",
     "start_time": "2024-10-15T18:52:30.096735Z"
    }
   },
   "cell_type": "code",
   "source": [
    "deck.remove(card)\n",
    "len(deck)"
   ],
   "id": "318407fca017866d",
   "outputs": [
    {
     "data": {
      "text/plain": [
       "51"
      ]
     },
     "execution_count": 58,
     "metadata": {},
     "output_type": "execute_result"
    }
   ],
   "execution_count": 58
  },
  {
   "metadata": {
    "ExecuteTime": {
     "end_time": "2024-10-15T18:52:49.573421Z",
     "start_time": "2024-10-15T18:52:49.565306Z"
    }
   },
   "cell_type": "code",
   "source": "type(card)",
   "id": "81dbf2f6157026b2",
   "outputs": [
    {
     "data": {
      "text/plain": [
       "tuple"
      ]
     },
     "execution_count": 59,
     "metadata": {},
     "output_type": "execute_result"
    }
   ],
   "execution_count": 59
  },
  {
   "metadata": {
    "ExecuteTime": {
     "end_time": "2024-10-15T18:53:11.631038Z",
     "start_time": "2024-10-15T18:53:11.617393Z"
    }
   },
   "cell_type": "code",
   "source": "card",
   "id": "5fb747d978b7720b",
   "outputs": [
    {
     "data": {
      "text/plain": [
       "(7, 'of', 'Hearts')"
      ]
     },
     "execution_count": 60,
     "metadata": {},
     "output_type": "execute_result"
    }
   ],
   "execution_count": 60
  },
  {
   "metadata": {
    "ExecuteTime": {
     "end_time": "2024-10-15T18:59:02.281832Z",
     "start_time": "2024-10-15T18:59:02.275090Z"
    }
   },
   "cell_type": "code",
   "source": [
    "def draw():\n",
    "    card = random.choice(list(deck))\n",
    "    deck.remove(card)\n",
    "    return card"
   ],
   "id": "5de45074aefc6d77",
   "outputs": [],
   "execution_count": 61
  },
  {
   "metadata": {
    "ExecuteTime": {
     "end_time": "2024-10-15T18:59:17.899475Z",
     "start_time": "2024-10-15T18:59:17.889753Z"
    }
   },
   "cell_type": "code",
   "source": "print(draw())",
   "id": "dee1954ce1ae837b",
   "outputs": [
    {
     "name": "stdout",
     "output_type": "stream",
     "text": [
      "('King', 'of', 'Clubs')\n"
     ]
    }
   ],
   "execution_count": 62
  },
  {
   "metadata": {
    "ExecuteTime": {
     "end_time": "2024-10-15T18:59:31.804448Z",
     "start_time": "2024-10-15T18:59:31.791707Z"
    }
   },
   "cell_type": "code",
   "source": "len(deck)",
   "id": "8b1e4f74382aa635",
   "outputs": [
    {
     "data": {
      "text/plain": [
       "50"
      ]
     },
     "execution_count": 63,
     "metadata": {},
     "output_type": "execute_result"
    }
   ],
   "execution_count": 63
  },
  {
   "metadata": {
    "ExecuteTime": {
     "end_time": "2024-10-15T19:02:46.991885Z",
     "start_time": "2024-10-15T19:02:46.984109Z"
    }
   },
   "cell_type": "code",
   "source": "card = (\"Ace\", \"of\", \"Hearts\")",
   "id": "bb6c00105eb059a6",
   "outputs": [],
   "execution_count": 64
  },
  {
   "metadata": {
    "ExecuteTime": {
     "end_time": "2024-10-15T19:02:57.097913Z",
     "start_time": "2024-10-15T19:02:57.079462Z"
    }
   },
   "cell_type": "code",
   "source": "card in deck",
   "id": "d8a7929f00c4508a",
   "outputs": [
    {
     "data": {
      "text/plain": [
       "True"
      ]
     },
     "execution_count": 65,
     "metadata": {},
     "output_type": "execute_result"
    }
   ],
   "execution_count": 65
  },
  {
   "metadata": {
    "ExecuteTime": {
     "end_time": "2024-10-15T19:04:27.311372Z",
     "start_time": "2024-10-15T19:04:27.295305Z"
    }
   },
   "cell_type": "code",
   "source": [
    "if card in deck:\n",
    "    print(\"That card's available. :-) \")\n",
    "else:\n",
    "    print(\"That card's already taken. :-( \")"
   ],
   "id": "7a7c49c52704ba16",
   "outputs": [
    {
     "name": "stdout",
     "output_type": "stream",
     "text": [
      "That card's available. :-) \n"
     ]
    }
   ],
   "execution_count": 66
  },
  {
   "metadata": {
    "ExecuteTime": {
     "end_time": "2024-10-15T19:29:49.539992Z",
     "start_time": "2024-10-15T19:29:49.524437Z"
    }
   },
   "cell_type": "code",
   "source": "import this",
   "id": "2ed33de189dba67b",
   "outputs": [
    {
     "name": "stdout",
     "output_type": "stream",
     "text": [
      "The Zen of Python, by Tim Peters\n",
      "\n",
      "Beautiful is better than ugly.\n",
      "Explicit is better than implicit.\n",
      "Simple is better than complex.\n",
      "Complex is better than complicated.\n",
      "Flat is better than nested.\n",
      "Sparse is better than dense.\n",
      "Readability counts.\n",
      "Special cases aren't special enough to break the rules.\n",
      "Although practicality beats purity.\n",
      "Errors should never pass silently.\n",
      "Unless explicitly silenced.\n",
      "In the face of ambiguity, refuse the temptation to guess.\n",
      "There should be one-- and preferably only one --obvious way to do it.\n",
      "Although that way may not be obvious at first unless you're Dutch.\n",
      "Now is better than never.\n",
      "Although never is often better than *right* now.\n",
      "If the implementation is hard to explain, it's a bad idea.\n",
      "If the implementation is easy to explain, it may be a good idea.\n",
      "Namespaces are one honking great idea -- let's do more of those!\n"
     ]
    }
   ],
   "execution_count": 67
  },
  {
   "metadata": {
    "ExecuteTime": {
     "end_time": "2024-10-15T19:31:28.308869Z",
     "start_time": "2024-10-15T19:31:23.227993Z"
    }
   },
   "cell_type": "code",
   "source": "import antigravity",
   "id": "bdee0f27628f4db2",
   "outputs": [],
   "execution_count": 68
  },
  {
   "metadata": {},
   "cell_type": "code",
   "outputs": [],
   "execution_count": null,
   "source": "",
   "id": "37da512cb975d82a"
  }
 ],
 "metadata": {
  "kernelspec": {
   "display_name": "Python 3",
   "language": "python",
   "name": "python3"
  },
  "language_info": {
   "codemirror_mode": {
    "name": "ipython",
    "version": 2
   },
   "file_extension": ".py",
   "mimetype": "text/x-python",
   "name": "python",
   "nbconvert_exporter": "python",
   "pygments_lexer": "ipython2",
   "version": "2.7.6"
  }
 },
 "nbformat": 4,
 "nbformat_minor": 5
}
